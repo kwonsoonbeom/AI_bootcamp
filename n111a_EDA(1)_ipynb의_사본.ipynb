{
  "nbformat": 4,
  "nbformat_minor": 0,
  "metadata": {
    "colab": {
      "provenance": [],
      "collapsed_sections": [
        "i0DT1hcYYDwo",
        "NKn67n1TBxWy",
        "r6HbK4QN03sB",
        "qV1YYagFMUL6",
        "iLHreBU1RTUD",
        "9t0aTQ0hMYsb"
      ],
      "include_colab_link": true
    },
    "kernelspec": {
      "name": "python3",
      "display_name": "Python 3"
    },
    "language_info": {
      "name": "python"
    }
  },
  "cells": [
    {
      "cell_type": "markdown",
      "metadata": {
        "id": "view-in-github",
        "colab_type": "text"
      },
      "source": [
        "<a href=\"https://colab.research.google.com/github/kwonsoonbeom/AI_bootcamp/blob/main/n111a_EDA(1)_ipynb%EC%9D%98_%EC%82%AC%EB%B3%B8.ipynb\" target=\"_parent\"><img src=\"https://colab.research.google.com/assets/colab-badge.svg\" alt=\"Open In Colab\"/></a>"
      ]
    },
    {
      "cell_type": "markdown",
      "source": [
        "<img src='https://i.imgur.com/RDAD11M.png' width = '200' align = 'right'>\n",
        "\n",
        "## *DATA SCIENCE / SECTION 1 / SPRINT 1 / NOTE 1*\n",
        "\n",
        "---\n",
        "\n",
        "# 📝 Assignment\n",
        "\n"
      ],
      "metadata": {
        "id": "i0DT1hcYYDwo"
      }
    },
    {
      "cell_type": "markdown",
      "source": [
        "# **🌱 기본 과제**"
      ],
      "metadata": {
        "id": "Qi-M-IrHic8G"
      }
    },
    {
      "cell_type": "markdown",
      "source": [
        "## **Part 1. EDA**"
      ],
      "metadata": {
        "id": "v36HgcsF-47K"
      }
    },
    {
      "cell_type": "markdown",
      "source": [
        "### **1-1. 데이터셋 불러오기**\n",
        "\n",
        "우리는 이 과제를 통해 아래의 url에 존재하는 Travel.xlsx를 Pandas의 데이터프레임으로 가져와 데이터에서 의미를 도출하고자 합니다. \n",
        "- https://ds-lecture-data.s3.ap-northeast-2.amazonaws.com/stocks/Travel.xlsx\n",
        "\n",
        "유의해야 할 점은 데이터를 불러올때, 그 파일의 형태와 구조에 따라 올바르게 불러와야 한다는 점입니다. <br> \n",
        "\n",
        "우선, 이 파일은 `.csv` 형태가 아닌 `.xlsx` 파일 형태입니다. 그러므로 Pandas의 `read_csv` 메서드가 아닌 `read_excel` 메서드를 활용하여 데이터를 가져와야 합니다. 또한, 이 파일은 2개의 시트로 구성되어 있으며 시트명은 각각 `008770` , `035250` 입니다. <br>\n",
        "\n",
        "아래의 코드 Tip과 첨부된 링크를 활용하여 각 시트의 데이터가 다음 이미지와 같은 데이터프레임 형식을 갖도록 만드세요.\n",
        "\n",
        "<img src='https://i.imgur.com/G1rLOnh.png'>\n",
        "\n",
        "- `008770` 시트의 데이터는 **df1**으로, `035250` 시트의 데이터는 **df2**로 저장합니다.\n",
        "\n",
        "<br>\n",
        "\n",
        "> **💡 Tip**\n",
        "1. df = pd[.read_excel](https://pandas.pydata.org/docs/reference/api/pandas.read_excel.html)(url, sheet_name = 0)\n",
        "2. df = df[.T](https://pandas.pydata.org/pandas-docs/version/0.25.0/reference/api/pandas.DataFrame.T.html)\n",
        "3. df_columns = df1[.loc](https://stackoverflow.com/questions/31593201/how-are-iloc-and-loc-different)[0]\n",
        "4. df[.columns](https://stackoverflow.com/questions/31328861/python-pandas-replacing-header-with-top-row) = df_columns\n",
        "5. df = df[1:]\n"
      ],
      "metadata": {
        "id": "cu2Rrz1rzBQi"
      }
    },
    {
      "cell_type": "markdown",
      "source": [
        "##### **Q1. `df1`의 shape을 쓰세요.**"
      ],
      "metadata": {
        "id": "1hv3QYvBri5W"
      }
    },
    {
      "cell_type": "code",
      "source": [
        "# 이곳에 코드를 작성하세요.\n",
        "import pandas as pd\n",
        "url = 'https://ds-lecture-data.s3.ap-northeast-2.amazonaws.com/stocks/Travel.xlsx'\n",
        "df1 = pd.read_excel(url, sheet_name = 0)\n",
        "df1 = df1.T\n",
        "df1.shape"
      ],
      "metadata": {
        "id": "V_1ohj9dJnVc",
        "colab": {
          "base_uri": "https://localhost:8080/"
        },
        "outputId": "d23beea7-fdc9-4af8-b4cb-48ac01dcfd1e"
      },
      "execution_count": null,
      "outputs": [
        {
          "output_type": "execute_result",
          "data": {
            "text/plain": [
              "(9, 32)"
            ]
          },
          "metadata": {},
          "execution_count": 3
        }
      ]
    },
    {
      "cell_type": "markdown",
      "source": [
        "##### **Q2. `df2`의 shape을 쓰세요.**"
      ],
      "metadata": {
        "id": "NkKYlC83uBR5"
      }
    },
    {
      "cell_type": "code",
      "source": [
        "# 이곳에 코드를 작성하세요.\n",
        "import pandas as pd\n",
        "url = 'https://ds-lecture-data.s3.ap-northeast-2.amazonaws.com/stocks/Travel.xlsx'\n",
        "df2 = pd.read_excel(url, sheet_name = 1)\n",
        "df2 = df2.T\n",
        "df2.shape"
      ],
      "metadata": {
        "id": "ruqWEg90u2nH",
        "colab": {
          "base_uri": "https://localhost:8080/"
        },
        "outputId": "f53870f4-714b-46b9-c881-ec721b5f9969"
      },
      "execution_count": null,
      "outputs": [
        {
          "output_type": "execute_result",
          "data": {
            "text/plain": [
              "(9, 32)"
            ]
          },
          "metadata": {},
          "execution_count": 4
        }
      ]
    },
    {
      "cell_type": "markdown",
      "source": [
        "### **1-2. 결측치 확인**\n",
        "\n",
        "- df1과 df2의 결측치를 확인하세요.\n",
        "  - 두 데이터 프레임의 결측치 확인 후, \n",
        "[.fillna()](https://pandas.pydata.org/docs/reference/api/pandas.DataFrame.fillna.html) 메서드를 활용하여 결측치를 0으로 대체하세요. <br>\n",
        "- 결측치 대체 후에 제대로 코드가 작동 하였는지 확인하도록 합니다."
      ],
      "metadata": {
        "id": "fM1Vf-wW_0wG"
      }
    },
    {
      "cell_type": "markdown",
      "source": [
        "##### **Q3. `df1`의 -1번째 column의 결측치는 모두 몇 개인지 구하세요.**\n",
        "\n"
      ],
      "metadata": {
        "id": "Pbu4djWOPQ9o"
      }
    },
    {
      "cell_type": "code",
      "source": [
        "# 이곳에 코드를 작성하세요.\n",
        "df1.isnull().sum()"
      ],
      "metadata": {
        "id": "pZyBOFsHROJX",
        "colab": {
          "base_uri": "https://localhost:8080/"
        },
        "outputId": "ce8225f7-ed52-4ef5-9e39-e91e090f6687"
      },
      "execution_count": null,
      "outputs": [
        {
          "output_type": "execute_result",
          "data": {
            "text/plain": [
              "0     0\n",
              "1     0\n",
              "2     3\n",
              "3     0\n",
              "4     0\n",
              "5     0\n",
              "6     3\n",
              "7     2\n",
              "8     2\n",
              "9     2\n",
              "10    2\n",
              "11    3\n",
              "12    2\n",
              "13    3\n",
              "14    3\n",
              "15    3\n",
              "16    3\n",
              "17    3\n",
              "18    3\n",
              "19    0\n",
              "20    0\n",
              "21    3\n",
              "22    3\n",
              "23    2\n",
              "24    3\n",
              "25    0\n",
              "26    5\n",
              "27    2\n",
              "28    2\n",
              "29    6\n",
              "30    8\n",
              "31    4\n",
              "dtype: int64"
            ]
          },
          "metadata": {},
          "execution_count": 9
        }
      ]
    },
    {
      "cell_type": "markdown",
      "source": [
        "##### **Q4. `df2`의 -1번째 column의 결측치는 모두 몇 개인지 구하세요.**"
      ],
      "metadata": {
        "id": "03CTbBtZuMXw"
      }
    },
    {
      "cell_type": "code",
      "source": [
        "# 이곳에 코드를 작성하세요.\n",
        "df2.isnull().sum()"
      ],
      "metadata": {
        "id": "-JPmvtRKQfjs",
        "colab": {
          "base_uri": "https://localhost:8080/"
        },
        "outputId": "fc418652-16fc-4f9f-afa7-5a31881ef023"
      },
      "execution_count": null,
      "outputs": [
        {
          "output_type": "execute_result",
          "data": {
            "text/plain": [
              "0     0\n",
              "1     0\n",
              "2     3\n",
              "3     2\n",
              "4     2\n",
              "5     0\n",
              "6     3\n",
              "7     2\n",
              "8     2\n",
              "9     2\n",
              "10    2\n",
              "11    6\n",
              "12    2\n",
              "13    3\n",
              "14    3\n",
              "15    3\n",
              "16    3\n",
              "17    3\n",
              "18    3\n",
              "19    0\n",
              "20    2\n",
              "21    3\n",
              "22    3\n",
              "23    2\n",
              "24    3\n",
              "25    0\n",
              "26    5\n",
              "27    2\n",
              "28    2\n",
              "29    6\n",
              "30    8\n",
              "31    5\n",
              "dtype: int64"
            ]
          },
          "metadata": {},
          "execution_count": 10
        }
      ]
    },
    {
      "cell_type": "markdown",
      "source": [
        "### **1-3. GitHub Pull Request**\n",
        "\n",
        "> 아래 **`🥇 도전과제`**를 풀 경우, 도전과제까지 모두 마친 후 이 문항을 마지막에 수행합니다. \n",
        "\n",
        "- 다음 링크를 통해 chrome에 **`open in colab`**을 설치합니다. <br>\n",
        "  https://chrome.google.com/webstore/detail/open-in-colab/iogfkhleblhcpcekbiedikdehleodpjo\n",
        "- colab에서 **`도구`** > **`설정`** > **`GitHub`** 으로 이동해 **`비공개 저장소 및 조직에 액세스`**에 체크합니다. <br>\n",
        "  https://colab.research.google.com/\n",
        "- 유어클래스의 **`[AIB] Archives`** > **`AI 부트캠프 DOCs`** > **`1. Colab 을 통한 Pull Request 과제제출`**을 참고하여 깃헙에 n111a를 PR합니다. <br>\n",
        "  https://urclass.codestates.com/content/a18a5115-f614-49ab-810a-87f5024c3297?playlist=2461\n",
        "- **`변경사항 설명 메세지`**에는 **`[n111a] 1차 제출`** 이라고 씁니다. "
      ],
      "metadata": {
        "id": "M0QZhu1Ty4MR"
      }
    },
    {
      "cell_type": "markdown",
      "source": [
        "# **🥇 도전 과제**\n",
        "\n"
      ],
      "metadata": {
        "id": "t3W7dILmy85G"
      }
    },
    {
      "cell_type": "markdown",
      "source": [
        "## **Part 2. Missing Value**\n",
        "\n"
      ],
      "metadata": {
        "id": "8dkfe4eXTg5j"
      }
    },
    {
      "cell_type": "markdown",
      "source": [
        "##### **자산총계의 결측치를 처리하세요.**\n",
        "앞선 문제에서는 결측치를 단순히 0으로 처리하였으나, 결측치를 처리하는 방법은 그 외에도 여러가지가 있습니다. <br>\n",
        "다양한 imputation 방법에 대해 알아보고, 그 중 mean imputation 방법을 사용하여 `자산총계`의 결측치를 처리해보세요."
      ],
      "metadata": {
        "id": "TYbIgAH0Fr3i"
      }
    },
    {
      "cell_type": "code",
      "source": [
        "# 이곳에 코드를 작성하세요.\n",
        "df1['자산총계'].fillna(df1['자산총계'].mean())\n"
      ],
      "metadata": {
        "id": "tklV5dDIpGwU",
        "colab": {
          "base_uri": "https://localhost:8080/"
        },
        "outputId": "e85fd1b0-2c13-446e-c81f-2ce9e8895269"
      },
      "execution_count": null,
      "outputs": [
        {
          "output_type": "execute_result",
          "data": {
            "text/plain": [
              "주요재무정보                     자산총계\n",
              "2019/09\\n(IFRS연결)       37747.0\n",
              "2019/12\\n(IFRS연결)       35273.0\n",
              "2020/03\\n(IFRS연결)       33188.0\n",
              "2020/06\\n(IFRS연결)       33039.0\n",
              "2020/09\\n(IFRS연결)       32683.0\n",
              "2020/12(E)\\n(IFRS연결)    32388.0\n",
              "2021/03(E)\\n(IFRS연결)        NaN\n",
              "2021/06(E)\\n(IFRS연결)        NaN\n",
              "Name: 7, dtype: object"
            ]
          },
          "metadata": {},
          "execution_count": 20
        }
      ]
    },
    {
      "cell_type": "markdown",
      "source": [
        "## **Part 3.Feature Engineering**\n"
      ],
      "metadata": {
        "id": "x3aOxM08znng"
      }
    },
    {
      "cell_type": "markdown",
      "source": [
        "##### **`부채 비율 2` 라는 새로운 피쳐를 생성하세요.**\n",
        "\n",
        "> 부채 비율(%) = (부채총액 / 자본총액) x 100\n",
        "\n",
        "위의 공식을 활용하여 `부채 비율 2` 라는 column을 생성합니다. 그리고, 생성한 column과 기존 `부채 비율` column의 값이 동일한지 확인해봅니다."
      ],
      "metadata": {
        "id": "3gJ8__ZdtC2W"
      }
    },
    {
      "cell_type": "code",
      "source": [
        "# 이곳에 코드를 작성하세요.\n",
        "df1['부채 비율2'] = (df1['부채총액'] / df1['자본총액']) * 100"
      ],
      "metadata": {
        "id": "VOqF6gB-pJeR",
        "colab": {
          "base_uri": "https://localhost:8080/",
          "height": 345
        },
        "outputId": "b22ff78a-2200-4fe8-bb31-43d313dd07cc"
      },
      "execution_count": null,
      "outputs": [
        {
          "output_type": "error",
          "ename": "KeyError",
          "evalue": "ignored",
          "traceback": [
            "\u001b[0;31m---------------------------------------------------------------------------\u001b[0m",
            "\u001b[0;31mKeyError\u001b[0m                                  Traceback (most recent call last)",
            "\u001b[0;32m<ipython-input-21-c7e6576cdfcf>\u001b[0m in \u001b[0;36m<module>\u001b[0;34m\u001b[0m\n\u001b[1;32m      1\u001b[0m \u001b[0;31m# 이곳에 코드를 작성하세요.\u001b[0m\u001b[0;34m\u001b[0m\u001b[0;34m\u001b[0m\u001b[0;34m\u001b[0m\u001b[0m\n\u001b[0;32m----> 2\u001b[0;31m \u001b[0mdf1\u001b[0m\u001b[0;34m[\u001b[0m\u001b[0;34m'부채 비율2'\u001b[0m\u001b[0;34m]\u001b[0m \u001b[0;34m=\u001b[0m \u001b[0;34m(\u001b[0m\u001b[0mdf1\u001b[0m\u001b[0;34m[\u001b[0m\u001b[0;34m'부채총액'\u001b[0m\u001b[0;34m]\u001b[0m \u001b[0;34m/\u001b[0m \u001b[0mdf1\u001b[0m\u001b[0;34m[\u001b[0m\u001b[0;34m'자본총액'\u001b[0m\u001b[0;34m]\u001b[0m\u001b[0;34m)\u001b[0m \u001b[0;34m*\u001b[0m \u001b[0;36m100\u001b[0m\u001b[0;34m\u001b[0m\u001b[0;34m\u001b[0m\u001b[0m\n\u001b[0m",
            "\u001b[0;32m/usr/local/lib/python3.8/dist-packages/pandas/core/frame.py\u001b[0m in \u001b[0;36m__getitem__\u001b[0;34m(self, key)\u001b[0m\n\u001b[1;32m   3456\u001b[0m             \u001b[0;32mif\u001b[0m \u001b[0mself\u001b[0m\u001b[0;34m.\u001b[0m\u001b[0mcolumns\u001b[0m\u001b[0;34m.\u001b[0m\u001b[0mnlevels\u001b[0m \u001b[0;34m>\u001b[0m \u001b[0;36m1\u001b[0m\u001b[0;34m:\u001b[0m\u001b[0;34m\u001b[0m\u001b[0;34m\u001b[0m\u001b[0m\n\u001b[1;32m   3457\u001b[0m                 \u001b[0;32mreturn\u001b[0m \u001b[0mself\u001b[0m\u001b[0;34m.\u001b[0m\u001b[0m_getitem_multilevel\u001b[0m\u001b[0;34m(\u001b[0m\u001b[0mkey\u001b[0m\u001b[0;34m)\u001b[0m\u001b[0;34m\u001b[0m\u001b[0;34m\u001b[0m\u001b[0m\n\u001b[0;32m-> 3458\u001b[0;31m             \u001b[0mindexer\u001b[0m \u001b[0;34m=\u001b[0m \u001b[0mself\u001b[0m\u001b[0;34m.\u001b[0m\u001b[0mcolumns\u001b[0m\u001b[0;34m.\u001b[0m\u001b[0mget_loc\u001b[0m\u001b[0;34m(\u001b[0m\u001b[0mkey\u001b[0m\u001b[0;34m)\u001b[0m\u001b[0;34m\u001b[0m\u001b[0;34m\u001b[0m\u001b[0m\n\u001b[0m\u001b[1;32m   3459\u001b[0m             \u001b[0;32mif\u001b[0m \u001b[0mis_integer\u001b[0m\u001b[0;34m(\u001b[0m\u001b[0mindexer\u001b[0m\u001b[0;34m)\u001b[0m\u001b[0;34m:\u001b[0m\u001b[0;34m\u001b[0m\u001b[0;34m\u001b[0m\u001b[0m\n\u001b[1;32m   3460\u001b[0m                 \u001b[0mindexer\u001b[0m \u001b[0;34m=\u001b[0m \u001b[0;34m[\u001b[0m\u001b[0mindexer\u001b[0m\u001b[0;34m]\u001b[0m\u001b[0;34m\u001b[0m\u001b[0;34m\u001b[0m\u001b[0m\n",
            "\u001b[0;32m/usr/local/lib/python3.8/dist-packages/pandas/core/indexes/range.py\u001b[0m in \u001b[0;36mget_loc\u001b[0;34m(self, key, method, tolerance)\u001b[0m\n\u001b[1;32m    386\u001b[0m                 \u001b[0;32mexcept\u001b[0m \u001b[0mValueError\u001b[0m \u001b[0;32mas\u001b[0m \u001b[0merr\u001b[0m\u001b[0;34m:\u001b[0m\u001b[0;34m\u001b[0m\u001b[0;34m\u001b[0m\u001b[0m\n\u001b[1;32m    387\u001b[0m                     \u001b[0;32mraise\u001b[0m \u001b[0mKeyError\u001b[0m\u001b[0;34m(\u001b[0m\u001b[0mkey\u001b[0m\u001b[0;34m)\u001b[0m \u001b[0;32mfrom\u001b[0m \u001b[0merr\u001b[0m\u001b[0;34m\u001b[0m\u001b[0;34m\u001b[0m\u001b[0m\n\u001b[0;32m--> 388\u001b[0;31m             \u001b[0;32mraise\u001b[0m \u001b[0mKeyError\u001b[0m\u001b[0;34m(\u001b[0m\u001b[0mkey\u001b[0m\u001b[0;34m)\u001b[0m\u001b[0;34m\u001b[0m\u001b[0;34m\u001b[0m\u001b[0m\n\u001b[0m\u001b[1;32m    389\u001b[0m         \u001b[0;32mreturn\u001b[0m \u001b[0msuper\u001b[0m\u001b[0;34m(\u001b[0m\u001b[0;34m)\u001b[0m\u001b[0;34m.\u001b[0m\u001b[0mget_loc\u001b[0m\u001b[0;34m(\u001b[0m\u001b[0mkey\u001b[0m\u001b[0;34m,\u001b[0m \u001b[0mmethod\u001b[0m\u001b[0;34m=\u001b[0m\u001b[0mmethod\u001b[0m\u001b[0;34m,\u001b[0m \u001b[0mtolerance\u001b[0m\u001b[0;34m=\u001b[0m\u001b[0mtolerance\u001b[0m\u001b[0;34m)\u001b[0m\u001b[0;34m\u001b[0m\u001b[0;34m\u001b[0m\u001b[0m\n\u001b[1;32m    390\u001b[0m \u001b[0;34m\u001b[0m\u001b[0m\n",
            "\u001b[0;31mKeyError\u001b[0m: '부채총액'"
          ]
        }
      ]
    },
    {
      "cell_type": "markdown",
      "source": [
        "##### **`종목` 이라는 새로운 피쳐를 생성하세요.**\n",
        "\n",
        "**`.repeat()`**를 활용하여 새로운 `종목`이라는 새로운 column을 생성합니다.\n",
        "  - `df1`의 `종목` column에는 `008770` 문자열이 담기도록 합니다.  \n",
        "  - `df2`의 `종목` column에는 `035250` 문자열이 담기도록 합니다. \n",
        "\n",
        "각각의 데이터 프레임에 `종목`이라는 column을 만든 후, 최종적으로 두 데이터프레임 `df1`과 `df2`를 **`.append()`**를 활용하여 합쳐주도록 합니다."
      ],
      "metadata": {
        "id": "qCETmKmwttGS"
      }
    },
    {
      "cell_type": "code",
      "source": [
        "# 이곳에 코드를 작성하세요.\n",
        "import numpy as np\n",
        "category_df1 = np.repeat('008770', len(df1))\n",
        "category_df2 = np.repeat('035250', len(df2))\n",
        "df1['종목'] = category_df1\n",
        "df2['종목'] = category_df2\n",
        "#set(df1.columns) == set(df2.columns)\n",
        "df = df1.append(df2, ignore_index = True)\n",
        "df"
      ],
      "metadata": {
        "id": "8b8MmErjpLL7",
        "colab": {
          "base_uri": "https://localhost:8080/",
          "height": 687
        },
        "outputId": "0b51ce26-9813-44fe-e62f-ba26aaaee371"
      },
      "execution_count": null,
      "outputs": [
        {
          "output_type": "execute_result",
          "data": {
            "text/plain": [
              "          0       1           2         3       4          5           6  \\\n",
              "0       매출액    영업이익  영업이익(발표기준)  세전계속사업이익   당기순이익  당기순이익(지배)  당기순이익(비지배)   \n",
              "1   14753.0   574.0       574.0     376.0   274.0      277.0        -3.0   \n",
              "2   15440.0   776.0       776.0     538.0   380.0      380.0         0.0   \n",
              "3    9437.0  -668.0      -668.0    -925.0  -736.0     -736.0         0.0   \n",
              "4    5230.0  -634.0      -634.0    -819.0  -677.0     -678.0         1.0   \n",
              "5    8795.0  -198.0      -198.0    -366.0  -285.0     -285.0         0.0   \n",
              "6    9980.0    50.0         NaN    -109.0  -100.0     -100.0         NaN   \n",
              "7    9761.0   144.0         NaN      14.0    71.0       53.0         NaN   \n",
              "8    9820.0   265.0         NaN     172.0   214.0      123.0         NaN   \n",
              "9       매출액    영업이익  영업이익(발표기준)  세전계속사업이익   당기순이익  당기순이익(지배)  당기순이익(비지배)   \n",
              "10   4055.0  1392.0      1392.0    1554.0  1286.0     1286.0         0.0   \n",
              "11   3728.0   641.0       641.0     769.0   526.0      526.0         0.0   \n",
              "12   2360.0 -1868.0     -1868.0   -2204.0 -1561.0    -1561.0         0.0   \n",
              "13    346.0 -1038.0     -1038.0    -723.0  -456.0     -456.0         0.0   \n",
              "14    766.0  -649.0      -649.0    -552.0  -409.0     -409.0         0.0   \n",
              "15   1581.0  -434.0         NaN    -331.0  -465.0     -314.0         NaN   \n",
              "16   1473.0  -187.0         NaN       NaN     NaN      -33.0         NaN   \n",
              "17   1746.0   -65.0         NaN       NaN     NaN      135.0         NaN   \n",
              "\n",
              "          7        8        9  ...      23       24      25      26       27  \\\n",
              "0      자산총계     부채총계     자본총계  ...    부채비율    자본유보율  EPS(원)  PER(배)   BPS(원)   \n",
              "1   37747.0  28854.0   8893.0  ...  324.45    395.1   692.0   31.19  23484.0   \n",
              "2   35273.0  26077.0   9195.0  ...  283.59   411.78   950.0    21.4  24282.0   \n",
              "3   33188.0  24813.0   8375.0  ...  296.28   368.36 -1839.0   63.76  22114.0   \n",
              "4   33039.0  25364.0   7676.0  ...  330.45   334.46 -1695.0     NaN  20265.0   \n",
              "5   32683.0  25318.0   7365.0  ...  343.77   320.21  -712.0     NaN  19444.0   \n",
              "6   32388.0  25171.0   7216.0  ...  348.79      NaN  -251.0     NaN  19187.0   \n",
              "7       NaN      NaN      NaN  ...     NaN      NaN   133.0     NaN      NaN   \n",
              "8       NaN      NaN      NaN  ...     NaN      NaN   308.0     NaN      NaN   \n",
              "9      자산총계     부채총계     자본총계  ...    부채비율    자본유보율  EPS(원)  PER(배)   BPS(원)   \n",
              "10  41698.0   4781.0  36917.0  ...   12.95  3513.86   601.0    21.0  18209.0   \n",
              "11  44381.0   7204.0  37178.0  ...   19.38  3538.24   246.0   18.92  18337.0   \n",
              "12  43702.0   9945.0  33757.0  ...   29.46  3218.48  -730.0   55.53  16650.0   \n",
              "13  39178.0   5900.0  33277.0  ...   17.73  3173.64  -213.0     NaN  16414.0   \n",
              "14  37434.0   4560.0  32875.0  ...   13.87   3136.0  -191.0     NaN  16215.0   \n",
              "15  38271.0   5998.0  32274.0  ...   18.58      NaN  -147.0     NaN  15888.0   \n",
              "16      NaN      NaN      NaN  ...     NaN      NaN   -15.0     NaN      NaN   \n",
              "17      NaN      NaN      NaN  ...     NaN      NaN    63.0     NaN      NaN   \n",
              "\n",
              "        28        29       30         31      종목  \n",
              "0   PBR(배)  현금DPS(원)  현금배당수익률  현금배당성향(%)  008770  \n",
              "1     3.67       0.0      NaN        0.0  008770  \n",
              "2     3.74     350.0      NaN      34.94  008770  \n",
              "3     3.19       NaN      NaN        0.0  008770  \n",
              "4      3.5       NaN      NaN        0.0  008770  \n",
              "5     3.91       NaN      NaN        NaN  008770  \n",
              "6     4.22       NaN      NaN        NaN  008770  \n",
              "7      NaN       NaN      NaN        NaN  008770  \n",
              "8      NaN       NaN      NaN        NaN  008770  \n",
              "9   PBR(배)  현금DPS(원)  현금배당수익률  현금배당성향(%)  035250  \n",
              "10    1.62       0.0      NaN        0.0  035250  \n",
              "11    1.61     900.0      NaN     346.75  035250  \n",
              "12    1.19       NaN      NaN        NaN  035250  \n",
              "13    1.31       NaN      NaN        0.0  035250  \n",
              "14    1.33       NaN      NaN        NaN  035250  \n",
              "15    1.46       NaN      NaN        NaN  035250  \n",
              "16     NaN       NaN      NaN        NaN  035250  \n",
              "17     NaN       NaN      NaN        NaN  035250  \n",
              "\n",
              "[18 rows x 33 columns]"
            ],
            "text/html": [
              "\n",
              "  <div id=\"df-53958f8a-614b-468f-b46b-d1ce6a6369ac\">\n",
              "    <div class=\"colab-df-container\">\n",
              "      <div>\n",
              "<style scoped>\n",
              "    .dataframe tbody tr th:only-of-type {\n",
              "        vertical-align: middle;\n",
              "    }\n",
              "\n",
              "    .dataframe tbody tr th {\n",
              "        vertical-align: top;\n",
              "    }\n",
              "\n",
              "    .dataframe thead th {\n",
              "        text-align: right;\n",
              "    }\n",
              "</style>\n",
              "<table border=\"1\" class=\"dataframe\">\n",
              "  <thead>\n",
              "    <tr style=\"text-align: right;\">\n",
              "      <th></th>\n",
              "      <th>0</th>\n",
              "      <th>1</th>\n",
              "      <th>2</th>\n",
              "      <th>3</th>\n",
              "      <th>4</th>\n",
              "      <th>5</th>\n",
              "      <th>6</th>\n",
              "      <th>7</th>\n",
              "      <th>8</th>\n",
              "      <th>9</th>\n",
              "      <th>...</th>\n",
              "      <th>23</th>\n",
              "      <th>24</th>\n",
              "      <th>25</th>\n",
              "      <th>26</th>\n",
              "      <th>27</th>\n",
              "      <th>28</th>\n",
              "      <th>29</th>\n",
              "      <th>30</th>\n",
              "      <th>31</th>\n",
              "      <th>종목</th>\n",
              "    </tr>\n",
              "  </thead>\n",
              "  <tbody>\n",
              "    <tr>\n",
              "      <th>0</th>\n",
              "      <td>매출액</td>\n",
              "      <td>영업이익</td>\n",
              "      <td>영업이익(발표기준)</td>\n",
              "      <td>세전계속사업이익</td>\n",
              "      <td>당기순이익</td>\n",
              "      <td>당기순이익(지배)</td>\n",
              "      <td>당기순이익(비지배)</td>\n",
              "      <td>자산총계</td>\n",
              "      <td>부채총계</td>\n",
              "      <td>자본총계</td>\n",
              "      <td>...</td>\n",
              "      <td>부채비율</td>\n",
              "      <td>자본유보율</td>\n",
              "      <td>EPS(원)</td>\n",
              "      <td>PER(배)</td>\n",
              "      <td>BPS(원)</td>\n",
              "      <td>PBR(배)</td>\n",
              "      <td>현금DPS(원)</td>\n",
              "      <td>현금배당수익률</td>\n",
              "      <td>현금배당성향(%)</td>\n",
              "      <td>008770</td>\n",
              "    </tr>\n",
              "    <tr>\n",
              "      <th>1</th>\n",
              "      <td>14753.0</td>\n",
              "      <td>574.0</td>\n",
              "      <td>574.0</td>\n",
              "      <td>376.0</td>\n",
              "      <td>274.0</td>\n",
              "      <td>277.0</td>\n",
              "      <td>-3.0</td>\n",
              "      <td>37747.0</td>\n",
              "      <td>28854.0</td>\n",
              "      <td>8893.0</td>\n",
              "      <td>...</td>\n",
              "      <td>324.45</td>\n",
              "      <td>395.1</td>\n",
              "      <td>692.0</td>\n",
              "      <td>31.19</td>\n",
              "      <td>23484.0</td>\n",
              "      <td>3.67</td>\n",
              "      <td>0.0</td>\n",
              "      <td>NaN</td>\n",
              "      <td>0.0</td>\n",
              "      <td>008770</td>\n",
              "    </tr>\n",
              "    <tr>\n",
              "      <th>2</th>\n",
              "      <td>15440.0</td>\n",
              "      <td>776.0</td>\n",
              "      <td>776.0</td>\n",
              "      <td>538.0</td>\n",
              "      <td>380.0</td>\n",
              "      <td>380.0</td>\n",
              "      <td>0.0</td>\n",
              "      <td>35273.0</td>\n",
              "      <td>26077.0</td>\n",
              "      <td>9195.0</td>\n",
              "      <td>...</td>\n",
              "      <td>283.59</td>\n",
              "      <td>411.78</td>\n",
              "      <td>950.0</td>\n",
              "      <td>21.4</td>\n",
              "      <td>24282.0</td>\n",
              "      <td>3.74</td>\n",
              "      <td>350.0</td>\n",
              "      <td>NaN</td>\n",
              "      <td>34.94</td>\n",
              "      <td>008770</td>\n",
              "    </tr>\n",
              "    <tr>\n",
              "      <th>3</th>\n",
              "      <td>9437.0</td>\n",
              "      <td>-668.0</td>\n",
              "      <td>-668.0</td>\n",
              "      <td>-925.0</td>\n",
              "      <td>-736.0</td>\n",
              "      <td>-736.0</td>\n",
              "      <td>0.0</td>\n",
              "      <td>33188.0</td>\n",
              "      <td>24813.0</td>\n",
              "      <td>8375.0</td>\n",
              "      <td>...</td>\n",
              "      <td>296.28</td>\n",
              "      <td>368.36</td>\n",
              "      <td>-1839.0</td>\n",
              "      <td>63.76</td>\n",
              "      <td>22114.0</td>\n",
              "      <td>3.19</td>\n",
              "      <td>NaN</td>\n",
              "      <td>NaN</td>\n",
              "      <td>0.0</td>\n",
              "      <td>008770</td>\n",
              "    </tr>\n",
              "    <tr>\n",
              "      <th>4</th>\n",
              "      <td>5230.0</td>\n",
              "      <td>-634.0</td>\n",
              "      <td>-634.0</td>\n",
              "      <td>-819.0</td>\n",
              "      <td>-677.0</td>\n",
              "      <td>-678.0</td>\n",
              "      <td>1.0</td>\n",
              "      <td>33039.0</td>\n",
              "      <td>25364.0</td>\n",
              "      <td>7676.0</td>\n",
              "      <td>...</td>\n",
              "      <td>330.45</td>\n",
              "      <td>334.46</td>\n",
              "      <td>-1695.0</td>\n",
              "      <td>NaN</td>\n",
              "      <td>20265.0</td>\n",
              "      <td>3.5</td>\n",
              "      <td>NaN</td>\n",
              "      <td>NaN</td>\n",
              "      <td>0.0</td>\n",
              "      <td>008770</td>\n",
              "    </tr>\n",
              "    <tr>\n",
              "      <th>5</th>\n",
              "      <td>8795.0</td>\n",
              "      <td>-198.0</td>\n",
              "      <td>-198.0</td>\n",
              "      <td>-366.0</td>\n",
              "      <td>-285.0</td>\n",
              "      <td>-285.0</td>\n",
              "      <td>0.0</td>\n",
              "      <td>32683.0</td>\n",
              "      <td>25318.0</td>\n",
              "      <td>7365.0</td>\n",
              "      <td>...</td>\n",
              "      <td>343.77</td>\n",
              "      <td>320.21</td>\n",
              "      <td>-712.0</td>\n",
              "      <td>NaN</td>\n",
              "      <td>19444.0</td>\n",
              "      <td>3.91</td>\n",
              "      <td>NaN</td>\n",
              "      <td>NaN</td>\n",
              "      <td>NaN</td>\n",
              "      <td>008770</td>\n",
              "    </tr>\n",
              "    <tr>\n",
              "      <th>6</th>\n",
              "      <td>9980.0</td>\n",
              "      <td>50.0</td>\n",
              "      <td>NaN</td>\n",
              "      <td>-109.0</td>\n",
              "      <td>-100.0</td>\n",
              "      <td>-100.0</td>\n",
              "      <td>NaN</td>\n",
              "      <td>32388.0</td>\n",
              "      <td>25171.0</td>\n",
              "      <td>7216.0</td>\n",
              "      <td>...</td>\n",
              "      <td>348.79</td>\n",
              "      <td>NaN</td>\n",
              "      <td>-251.0</td>\n",
              "      <td>NaN</td>\n",
              "      <td>19187.0</td>\n",
              "      <td>4.22</td>\n",
              "      <td>NaN</td>\n",
              "      <td>NaN</td>\n",
              "      <td>NaN</td>\n",
              "      <td>008770</td>\n",
              "    </tr>\n",
              "    <tr>\n",
              "      <th>7</th>\n",
              "      <td>9761.0</td>\n",
              "      <td>144.0</td>\n",
              "      <td>NaN</td>\n",
              "      <td>14.0</td>\n",
              "      <td>71.0</td>\n",
              "      <td>53.0</td>\n",
              "      <td>NaN</td>\n",
              "      <td>NaN</td>\n",
              "      <td>NaN</td>\n",
              "      <td>NaN</td>\n",
              "      <td>...</td>\n",
              "      <td>NaN</td>\n",
              "      <td>NaN</td>\n",
              "      <td>133.0</td>\n",
              "      <td>NaN</td>\n",
              "      <td>NaN</td>\n",
              "      <td>NaN</td>\n",
              "      <td>NaN</td>\n",
              "      <td>NaN</td>\n",
              "      <td>NaN</td>\n",
              "      <td>008770</td>\n",
              "    </tr>\n",
              "    <tr>\n",
              "      <th>8</th>\n",
              "      <td>9820.0</td>\n",
              "      <td>265.0</td>\n",
              "      <td>NaN</td>\n",
              "      <td>172.0</td>\n",
              "      <td>214.0</td>\n",
              "      <td>123.0</td>\n",
              "      <td>NaN</td>\n",
              "      <td>NaN</td>\n",
              "      <td>NaN</td>\n",
              "      <td>NaN</td>\n",
              "      <td>...</td>\n",
              "      <td>NaN</td>\n",
              "      <td>NaN</td>\n",
              "      <td>308.0</td>\n",
              "      <td>NaN</td>\n",
              "      <td>NaN</td>\n",
              "      <td>NaN</td>\n",
              "      <td>NaN</td>\n",
              "      <td>NaN</td>\n",
              "      <td>NaN</td>\n",
              "      <td>008770</td>\n",
              "    </tr>\n",
              "    <tr>\n",
              "      <th>9</th>\n",
              "      <td>매출액</td>\n",
              "      <td>영업이익</td>\n",
              "      <td>영업이익(발표기준)</td>\n",
              "      <td>세전계속사업이익</td>\n",
              "      <td>당기순이익</td>\n",
              "      <td>당기순이익(지배)</td>\n",
              "      <td>당기순이익(비지배)</td>\n",
              "      <td>자산총계</td>\n",
              "      <td>부채총계</td>\n",
              "      <td>자본총계</td>\n",
              "      <td>...</td>\n",
              "      <td>부채비율</td>\n",
              "      <td>자본유보율</td>\n",
              "      <td>EPS(원)</td>\n",
              "      <td>PER(배)</td>\n",
              "      <td>BPS(원)</td>\n",
              "      <td>PBR(배)</td>\n",
              "      <td>현금DPS(원)</td>\n",
              "      <td>현금배당수익률</td>\n",
              "      <td>현금배당성향(%)</td>\n",
              "      <td>035250</td>\n",
              "    </tr>\n",
              "    <tr>\n",
              "      <th>10</th>\n",
              "      <td>4055.0</td>\n",
              "      <td>1392.0</td>\n",
              "      <td>1392.0</td>\n",
              "      <td>1554.0</td>\n",
              "      <td>1286.0</td>\n",
              "      <td>1286.0</td>\n",
              "      <td>0.0</td>\n",
              "      <td>41698.0</td>\n",
              "      <td>4781.0</td>\n",
              "      <td>36917.0</td>\n",
              "      <td>...</td>\n",
              "      <td>12.95</td>\n",
              "      <td>3513.86</td>\n",
              "      <td>601.0</td>\n",
              "      <td>21.0</td>\n",
              "      <td>18209.0</td>\n",
              "      <td>1.62</td>\n",
              "      <td>0.0</td>\n",
              "      <td>NaN</td>\n",
              "      <td>0.0</td>\n",
              "      <td>035250</td>\n",
              "    </tr>\n",
              "    <tr>\n",
              "      <th>11</th>\n",
              "      <td>3728.0</td>\n",
              "      <td>641.0</td>\n",
              "      <td>641.0</td>\n",
              "      <td>769.0</td>\n",
              "      <td>526.0</td>\n",
              "      <td>526.0</td>\n",
              "      <td>0.0</td>\n",
              "      <td>44381.0</td>\n",
              "      <td>7204.0</td>\n",
              "      <td>37178.0</td>\n",
              "      <td>...</td>\n",
              "      <td>19.38</td>\n",
              "      <td>3538.24</td>\n",
              "      <td>246.0</td>\n",
              "      <td>18.92</td>\n",
              "      <td>18337.0</td>\n",
              "      <td>1.61</td>\n",
              "      <td>900.0</td>\n",
              "      <td>NaN</td>\n",
              "      <td>346.75</td>\n",
              "      <td>035250</td>\n",
              "    </tr>\n",
              "    <tr>\n",
              "      <th>12</th>\n",
              "      <td>2360.0</td>\n",
              "      <td>-1868.0</td>\n",
              "      <td>-1868.0</td>\n",
              "      <td>-2204.0</td>\n",
              "      <td>-1561.0</td>\n",
              "      <td>-1561.0</td>\n",
              "      <td>0.0</td>\n",
              "      <td>43702.0</td>\n",
              "      <td>9945.0</td>\n",
              "      <td>33757.0</td>\n",
              "      <td>...</td>\n",
              "      <td>29.46</td>\n",
              "      <td>3218.48</td>\n",
              "      <td>-730.0</td>\n",
              "      <td>55.53</td>\n",
              "      <td>16650.0</td>\n",
              "      <td>1.19</td>\n",
              "      <td>NaN</td>\n",
              "      <td>NaN</td>\n",
              "      <td>NaN</td>\n",
              "      <td>035250</td>\n",
              "    </tr>\n",
              "    <tr>\n",
              "      <th>13</th>\n",
              "      <td>346.0</td>\n",
              "      <td>-1038.0</td>\n",
              "      <td>-1038.0</td>\n",
              "      <td>-723.0</td>\n",
              "      <td>-456.0</td>\n",
              "      <td>-456.0</td>\n",
              "      <td>0.0</td>\n",
              "      <td>39178.0</td>\n",
              "      <td>5900.0</td>\n",
              "      <td>33277.0</td>\n",
              "      <td>...</td>\n",
              "      <td>17.73</td>\n",
              "      <td>3173.64</td>\n",
              "      <td>-213.0</td>\n",
              "      <td>NaN</td>\n",
              "      <td>16414.0</td>\n",
              "      <td>1.31</td>\n",
              "      <td>NaN</td>\n",
              "      <td>NaN</td>\n",
              "      <td>0.0</td>\n",
              "      <td>035250</td>\n",
              "    </tr>\n",
              "    <tr>\n",
              "      <th>14</th>\n",
              "      <td>766.0</td>\n",
              "      <td>-649.0</td>\n",
              "      <td>-649.0</td>\n",
              "      <td>-552.0</td>\n",
              "      <td>-409.0</td>\n",
              "      <td>-409.0</td>\n",
              "      <td>0.0</td>\n",
              "      <td>37434.0</td>\n",
              "      <td>4560.0</td>\n",
              "      <td>32875.0</td>\n",
              "      <td>...</td>\n",
              "      <td>13.87</td>\n",
              "      <td>3136.0</td>\n",
              "      <td>-191.0</td>\n",
              "      <td>NaN</td>\n",
              "      <td>16215.0</td>\n",
              "      <td>1.33</td>\n",
              "      <td>NaN</td>\n",
              "      <td>NaN</td>\n",
              "      <td>NaN</td>\n",
              "      <td>035250</td>\n",
              "    </tr>\n",
              "    <tr>\n",
              "      <th>15</th>\n",
              "      <td>1581.0</td>\n",
              "      <td>-434.0</td>\n",
              "      <td>NaN</td>\n",
              "      <td>-331.0</td>\n",
              "      <td>-465.0</td>\n",
              "      <td>-314.0</td>\n",
              "      <td>NaN</td>\n",
              "      <td>38271.0</td>\n",
              "      <td>5998.0</td>\n",
              "      <td>32274.0</td>\n",
              "      <td>...</td>\n",
              "      <td>18.58</td>\n",
              "      <td>NaN</td>\n",
              "      <td>-147.0</td>\n",
              "      <td>NaN</td>\n",
              "      <td>15888.0</td>\n",
              "      <td>1.46</td>\n",
              "      <td>NaN</td>\n",
              "      <td>NaN</td>\n",
              "      <td>NaN</td>\n",
              "      <td>035250</td>\n",
              "    </tr>\n",
              "    <tr>\n",
              "      <th>16</th>\n",
              "      <td>1473.0</td>\n",
              "      <td>-187.0</td>\n",
              "      <td>NaN</td>\n",
              "      <td>NaN</td>\n",
              "      <td>NaN</td>\n",
              "      <td>-33.0</td>\n",
              "      <td>NaN</td>\n",
              "      <td>NaN</td>\n",
              "      <td>NaN</td>\n",
              "      <td>NaN</td>\n",
              "      <td>...</td>\n",
              "      <td>NaN</td>\n",
              "      <td>NaN</td>\n",
              "      <td>-15.0</td>\n",
              "      <td>NaN</td>\n",
              "      <td>NaN</td>\n",
              "      <td>NaN</td>\n",
              "      <td>NaN</td>\n",
              "      <td>NaN</td>\n",
              "      <td>NaN</td>\n",
              "      <td>035250</td>\n",
              "    </tr>\n",
              "    <tr>\n",
              "      <th>17</th>\n",
              "      <td>1746.0</td>\n",
              "      <td>-65.0</td>\n",
              "      <td>NaN</td>\n",
              "      <td>NaN</td>\n",
              "      <td>NaN</td>\n",
              "      <td>135.0</td>\n",
              "      <td>NaN</td>\n",
              "      <td>NaN</td>\n",
              "      <td>NaN</td>\n",
              "      <td>NaN</td>\n",
              "      <td>...</td>\n",
              "      <td>NaN</td>\n",
              "      <td>NaN</td>\n",
              "      <td>63.0</td>\n",
              "      <td>NaN</td>\n",
              "      <td>NaN</td>\n",
              "      <td>NaN</td>\n",
              "      <td>NaN</td>\n",
              "      <td>NaN</td>\n",
              "      <td>NaN</td>\n",
              "      <td>035250</td>\n",
              "    </tr>\n",
              "  </tbody>\n",
              "</table>\n",
              "<p>18 rows × 33 columns</p>\n",
              "</div>\n",
              "      <button class=\"colab-df-convert\" onclick=\"convertToInteractive('df-53958f8a-614b-468f-b46b-d1ce6a6369ac')\"\n",
              "              title=\"Convert this dataframe to an interactive table.\"\n",
              "              style=\"display:none;\">\n",
              "        \n",
              "  <svg xmlns=\"http://www.w3.org/2000/svg\" height=\"24px\"viewBox=\"0 0 24 24\"\n",
              "       width=\"24px\">\n",
              "    <path d=\"M0 0h24v24H0V0z\" fill=\"none\"/>\n",
              "    <path d=\"M18.56 5.44l.94 2.06.94-2.06 2.06-.94-2.06-.94-.94-2.06-.94 2.06-2.06.94zm-11 1L8.5 8.5l.94-2.06 2.06-.94-2.06-.94L8.5 2.5l-.94 2.06-2.06.94zm10 10l.94 2.06.94-2.06 2.06-.94-2.06-.94-.94-2.06-.94 2.06-2.06.94z\"/><path d=\"M17.41 7.96l-1.37-1.37c-.4-.4-.92-.59-1.43-.59-.52 0-1.04.2-1.43.59L10.3 9.45l-7.72 7.72c-.78.78-.78 2.05 0 2.83L4 21.41c.39.39.9.59 1.41.59.51 0 1.02-.2 1.41-.59l7.78-7.78 2.81-2.81c.8-.78.8-2.07 0-2.86zM5.41 20L4 18.59l7.72-7.72 1.47 1.35L5.41 20z\"/>\n",
              "  </svg>\n",
              "      </button>\n",
              "      \n",
              "  <style>\n",
              "    .colab-df-container {\n",
              "      display:flex;\n",
              "      flex-wrap:wrap;\n",
              "      gap: 12px;\n",
              "    }\n",
              "\n",
              "    .colab-df-convert {\n",
              "      background-color: #E8F0FE;\n",
              "      border: none;\n",
              "      border-radius: 50%;\n",
              "      cursor: pointer;\n",
              "      display: none;\n",
              "      fill: #1967D2;\n",
              "      height: 32px;\n",
              "      padding: 0 0 0 0;\n",
              "      width: 32px;\n",
              "    }\n",
              "\n",
              "    .colab-df-convert:hover {\n",
              "      background-color: #E2EBFA;\n",
              "      box-shadow: 0px 1px 2px rgba(60, 64, 67, 0.3), 0px 1px 3px 1px rgba(60, 64, 67, 0.15);\n",
              "      fill: #174EA6;\n",
              "    }\n",
              "\n",
              "    [theme=dark] .colab-df-convert {\n",
              "      background-color: #3B4455;\n",
              "      fill: #D2E3FC;\n",
              "    }\n",
              "\n",
              "    [theme=dark] .colab-df-convert:hover {\n",
              "      background-color: #434B5C;\n",
              "      box-shadow: 0px 1px 3px 1px rgba(0, 0, 0, 0.15);\n",
              "      filter: drop-shadow(0px 1px 2px rgba(0, 0, 0, 0.3));\n",
              "      fill: #FFFFFF;\n",
              "    }\n",
              "  </style>\n",
              "\n",
              "      <script>\n",
              "        const buttonEl =\n",
              "          document.querySelector('#df-53958f8a-614b-468f-b46b-d1ce6a6369ac button.colab-df-convert');\n",
              "        buttonEl.style.display =\n",
              "          google.colab.kernel.accessAllowed ? 'block' : 'none';\n",
              "\n",
              "        async function convertToInteractive(key) {\n",
              "          const element = document.querySelector('#df-53958f8a-614b-468f-b46b-d1ce6a6369ac');\n",
              "          const dataTable =\n",
              "            await google.colab.kernel.invokeFunction('convertToInteractive',\n",
              "                                                     [key], {});\n",
              "          if (!dataTable) return;\n",
              "\n",
              "          const docLinkHtml = 'Like what you see? Visit the ' +\n",
              "            '<a target=\"_blank\" href=https://colab.research.google.com/notebooks/data_table.ipynb>data table notebook</a>'\n",
              "            + ' to learn more about interactive tables.';\n",
              "          element.innerHTML = '';\n",
              "          dataTable['output_type'] = 'display_data';\n",
              "          await google.colab.output.renderOutput(dataTable, element);\n",
              "          const docLink = document.createElement('div');\n",
              "          docLink.innerHTML = docLinkHtml;\n",
              "          element.appendChild(docLink);\n",
              "        }\n",
              "      </script>\n",
              "    </div>\n",
              "  </div>\n",
              "  "
            ]
          },
          "metadata": {},
          "execution_count": 23
        }
      ]
    },
    {
      "cell_type": "code",
      "source": [],
      "metadata": {
        "id": "XSsDfQ7eIo0Y"
      },
      "execution_count": null,
      "outputs": []
    }
  ]
}